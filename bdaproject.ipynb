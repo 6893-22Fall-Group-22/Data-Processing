{
 "cells": [
  {
   "cell_type": "code",
   "execution_count": 1,
   "id": "65c2e9ff",
   "metadata": {},
   "outputs": [],
   "source": [
    "import pandas as pd\n",
    "import numpy as np"
   ]
  },
  {
   "cell_type": "code",
   "execution_count": 2,
   "id": "7171c88f",
   "metadata": {},
   "outputs": [],
   "source": [
    "df = pd.read_csv('June_stringIndexer.csv')"
   ]
  },
  {
   "cell_type": "code",
   "execution_count": 4,
   "id": "b007dda5",
   "metadata": {},
   "outputs": [],
   "source": [
    "df = df.drop(['Vehicle Year', 'Intersecting Street', 'Unnamed: 0'], axis =1)"
   ]
  },
  {
   "cell_type": "code",
   "execution_count": 5,
   "id": "12a916e5",
   "metadata": {},
   "outputs": [
    {
     "data": {
      "text/html": [
       "<div>\n",
       "<style scoped>\n",
       "    .dataframe tbody tr th:only-of-type {\n",
       "        vertical-align: middle;\n",
       "    }\n",
       "\n",
       "    .dataframe tbody tr th {\n",
       "        vertical-align: top;\n",
       "    }\n",
       "\n",
       "    .dataframe thead th {\n",
       "        text-align: right;\n",
       "    }\n",
       "</style>\n",
       "<table border=\"1\" class=\"dataframe\">\n",
       "  <thead>\n",
       "    <tr style=\"text-align: right;\">\n",
       "      <th></th>\n",
       "      <th>Violation Code</th>\n",
       "      <th>Violation Location</th>\n",
       "      <th>House Number</th>\n",
       "      <th>Registration State</th>\n",
       "      <th>Vehicle Body Type</th>\n",
       "      <th>Vehicle Make</th>\n",
       "      <th>Violation Time</th>\n",
       "      <th>Violation County</th>\n",
       "      <th>Street Name</th>\n",
       "      <th>Vehicle Color</th>\n",
       "    </tr>\n",
       "  </thead>\n",
       "  <tbody>\n",
       "    <tr>\n",
       "      <th>0</th>\n",
       "      <td>63</td>\n",
       "      <td>1.0</td>\n",
       "      <td>109</td>\n",
       "      <td>35</td>\n",
       "      <td>70</td>\n",
       "      <td>83</td>\n",
       "      <td>1298</td>\n",
       "      <td>4</td>\n",
       "      <td>2376</td>\n",
       "      <td>58</td>\n",
       "    </tr>\n",
       "    <tr>\n",
       "      <th>1</th>\n",
       "      <td>63</td>\n",
       "      <td>1.0</td>\n",
       "      <td>109</td>\n",
       "      <td>39</td>\n",
       "      <td>75</td>\n",
       "      <td>96</td>\n",
       "      <td>1250</td>\n",
       "      <td>4</td>\n",
       "      <td>2376</td>\n",
       "      <td>-1</td>\n",
       "    </tr>\n",
       "    <tr>\n",
       "      <th>2</th>\n",
       "      <td>63</td>\n",
       "      <td>1.0</td>\n",
       "      <td>109</td>\n",
       "      <td>35</td>\n",
       "      <td>70</td>\n",
       "      <td>72</td>\n",
       "      <td>1280</td>\n",
       "      <td>4</td>\n",
       "      <td>2376</td>\n",
       "      <td>26</td>\n",
       "    </tr>\n",
       "    <tr>\n",
       "      <th>3</th>\n",
       "      <td>63</td>\n",
       "      <td>1.0</td>\n",
       "      <td>109</td>\n",
       "      <td>35</td>\n",
       "      <td>-1</td>\n",
       "      <td>83</td>\n",
       "      <td>1246</td>\n",
       "      <td>4</td>\n",
       "      <td>2376</td>\n",
       "      <td>-1</td>\n",
       "    </tr>\n",
       "    <tr>\n",
       "      <th>4</th>\n",
       "      <td>63</td>\n",
       "      <td>1.0</td>\n",
       "      <td>109</td>\n",
       "      <td>35</td>\n",
       "      <td>-1</td>\n",
       "      <td>72</td>\n",
       "      <td>1268</td>\n",
       "      <td>4</td>\n",
       "      <td>2376</td>\n",
       "      <td>26</td>\n",
       "    </tr>\n",
       "    <tr>\n",
       "      <th>...</th>\n",
       "      <td>...</td>\n",
       "      <td>...</td>\n",
       "      <td>...</td>\n",
       "      <td>...</td>\n",
       "      <td>...</td>\n",
       "      <td>...</td>\n",
       "      <td>...</td>\n",
       "      <td>...</td>\n",
       "      <td>...</td>\n",
       "      <td>...</td>\n",
       "    </tr>\n",
       "    <tr>\n",
       "      <th>48481</th>\n",
       "      <td>40</td>\n",
       "      <td>75.0</td>\n",
       "      <td>598</td>\n",
       "      <td>23</td>\n",
       "      <td>1</td>\n",
       "      <td>110</td>\n",
       "      <td>293</td>\n",
       "      <td>2</td>\n",
       "      <td>2567</td>\n",
       "      <td>18</td>\n",
       "    </tr>\n",
       "    <tr>\n",
       "      <th>48482</th>\n",
       "      <td>20</td>\n",
       "      <td>75.0</td>\n",
       "      <td>1285</td>\n",
       "      <td>13</td>\n",
       "      <td>1</td>\n",
       "      <td>7</td>\n",
       "      <td>106</td>\n",
       "      <td>2</td>\n",
       "      <td>949</td>\n",
       "      <td>130</td>\n",
       "    </tr>\n",
       "    <tr>\n",
       "      <th>48483</th>\n",
       "      <td>40</td>\n",
       "      <td>75.0</td>\n",
       "      <td>1152</td>\n",
       "      <td>39</td>\n",
       "      <td>75</td>\n",
       "      <td>110</td>\n",
       "      <td>280</td>\n",
       "      <td>2</td>\n",
       "      <td>1261</td>\n",
       "      <td>124</td>\n",
       "    </tr>\n",
       "    <tr>\n",
       "      <th>48484</th>\n",
       "      <td>53</td>\n",
       "      <td>75.0</td>\n",
       "      <td>590</td>\n",
       "      <td>44</td>\n",
       "      <td>70</td>\n",
       "      <td>121</td>\n",
       "      <td>762</td>\n",
       "      <td>2</td>\n",
       "      <td>1354</td>\n",
       "      <td>65</td>\n",
       "    </tr>\n",
       "    <tr>\n",
       "      <th>48485</th>\n",
       "      <td>53</td>\n",
       "      <td>75.0</td>\n",
       "      <td>590</td>\n",
       "      <td>13</td>\n",
       "      <td>70</td>\n",
       "      <td>-1</td>\n",
       "      <td>776</td>\n",
       "      <td>2</td>\n",
       "      <td>1354</td>\n",
       "      <td>26</td>\n",
       "    </tr>\n",
       "  </tbody>\n",
       "</table>\n",
       "<p>48486 rows × 10 columns</p>\n",
       "</div>"
      ],
      "text/plain": [
       "       Violation Code  Violation Location House Number  Registration State  \\\n",
       "0                  63                 1.0          109                  35   \n",
       "1                  63                 1.0          109                  39   \n",
       "2                  63                 1.0          109                  35   \n",
       "3                  63                 1.0          109                  35   \n",
       "4                  63                 1.0          109                  35   \n",
       "...               ...                 ...          ...                 ...   \n",
       "48481              40                75.0          598                  23   \n",
       "48482              20                75.0         1285                  13   \n",
       "48483              40                75.0         1152                  39   \n",
       "48484              53                75.0          590                  44   \n",
       "48485              53                75.0          590                  13   \n",
       "\n",
       "       Vehicle Body Type  Vehicle Make  Violation Time  Violation County  \\\n",
       "0                     70            83            1298                 4   \n",
       "1                     75            96            1250                 4   \n",
       "2                     70            72            1280                 4   \n",
       "3                     -1            83            1246                 4   \n",
       "4                     -1            72            1268                 4   \n",
       "...                  ...           ...             ...               ...   \n",
       "48481                  1           110             293                 2   \n",
       "48482                  1             7             106                 2   \n",
       "48483                 75           110             280                 2   \n",
       "48484                 70           121             762                 2   \n",
       "48485                 70            -1             776                 2   \n",
       "\n",
       "       Street Name  Vehicle Color  \n",
       "0             2376             58  \n",
       "1             2376             -1  \n",
       "2             2376             26  \n",
       "3             2376             -1  \n",
       "4             2376             26  \n",
       "...            ...            ...  \n",
       "48481         2567             18  \n",
       "48482          949            130  \n",
       "48483         1261            124  \n",
       "48484         1354             65  \n",
       "48485         1354             26  \n",
       "\n",
       "[48486 rows x 10 columns]"
      ]
     },
     "execution_count": 5,
     "metadata": {},
     "output_type": "execute_result"
    }
   ],
   "source": [
    "df"
   ]
  },
  {
   "cell_type": "code",
   "execution_count": 12,
   "id": "50f4afa1",
   "metadata": {},
   "outputs": [],
   "source": [
    "from sklearn.model_selection import train_test_split\n",
    "from sklearn import linear_model"
   ]
  },
  {
   "cell_type": "code",
   "execution_count": 21,
   "id": "ea1a6fed",
   "metadata": {},
   "outputs": [
    {
     "data": {
      "text/plain": [
       "Index(['Violation Location', 'House Number', 'Registration State',\n",
       "       'Vehicle Body Type', 'Vehicle Make', 'Violation Time',\n",
       "       'Violation County', 'Street Name', 'Vehicle Color'],\n",
       "      dtype='object')"
      ]
     },
     "execution_count": 21,
     "metadata": {},
     "output_type": "execute_result"
    }
   ],
   "source": [
    "x = df.drop('Violation Code', axis=1)\n",
    "x.columns"
   ]
  },
  {
   "cell_type": "code",
   "execution_count": 57,
   "id": "a6208933",
   "metadata": {},
   "outputs": [],
   "source": [
    "x = df[['Violation Location', 'Registration State','Vehicle Body Type', 'Vehicle Make', 'Violation Time','Violation County', 'Street Name', 'Vehicle Color']]"
   ]
  },
  {
   "cell_type": "code",
   "execution_count": 58,
   "id": "4ddeadbe",
   "metadata": {},
   "outputs": [],
   "source": [
    "x = x.fillna(0)"
   ]
  },
  {
   "cell_type": "code",
   "execution_count": 59,
   "id": "ed3b1ded",
   "metadata": {},
   "outputs": [],
   "source": [
    "y = df['Violation Code']"
   ]
  },
  {
   "cell_type": "code",
   "execution_count": 13,
   "id": "e80bc158",
   "metadata": {},
   "outputs": [
    {
     "data": {
      "text/plain": [
       "array([63, 65, 14, 70, 46, 20, 40, 48, 17, 74, 84, 16, 71, 31, 69, 81, 10,\n",
       "       38, 21, 19, 42, 51, 53, 75, 67, 72, 37, 82, 68, 98, 76, 24, 41, 11,\n",
       "       33, 35, 99, 50, 62, 60, 18, 83, 66, 91, 27, 78, 95, 47, 61, 79, 39,\n",
       "        6, 85, 90, 73, 13, 22, 80, 96,  4, 87, 89, 26, 77, 52, 45, 49, 97,\n",
       "       23,  9, 58, 34, 44, 64,  8, 57])"
      ]
     },
     "execution_count": 13,
     "metadata": {},
     "output_type": "execute_result"
    }
   ],
   "source": [
    "y.unique()"
   ]
  },
  {
   "cell_type": "code",
   "execution_count": 42,
   "id": "d5447f6a",
   "metadata": {},
   "outputs": [
    {
     "data": {
      "text/plain": [
       "1917389"
      ]
     },
     "execution_count": 42,
     "metadata": {},
     "output_type": "execute_result"
    }
   ],
   "source": []
  },
  {
   "cell_type": "code",
   "execution_count": 60,
   "id": "9cfbb7cf",
   "metadata": {},
   "outputs": [
    {
     "name": "stdout",
     "output_type": "stream",
     "text": [
      "(38788, 8) (38788,)\n",
      "(9698, 8) (9698,)\n"
     ]
    }
   ],
   "source": [
    "X_train, X_test, Y_train, Y_test = train_test_split(\n",
    "    x,\n",
    "    y, \n",
    "    test_size = 0.2,\n",
    "    random_state=42\n",
    ")\n",
    "\n",
    "print(X_train.shape, Y_train.shape)\n",
    "print(X_test.shape, Y_test.shape)"
   ]
  },
  {
   "cell_type": "code",
   "execution_count": 54,
   "id": "c9a2a133",
   "metadata": {},
   "outputs": [],
   "source": [
    "from sklearn.tree import DecisionTreeClassifier\n",
    "from sklearn.ensemble import HistGradientBoostingClassifier\n",
    "from sklearn.metrics import f1_score\n",
    "\n",
    "from sklearn.impute import SimpleImputer, MissingIndicator\n",
    "\n",
    "from sklearn.pipeline import FeatureUnion, make_pipeline\n",
    "from sklearn.tree import DecisionTreeClassifier\n",
    "from sklearn import metrics"
   ]
  },
  {
   "cell_type": "code",
   "execution_count": 45,
   "id": "3efec746",
   "metadata": {},
   "outputs": [
    {
     "data": {
      "text/plain": [
       "(9698, 9)"
      ]
     },
     "execution_count": 45,
     "metadata": {},
     "output_type": "execute_result"
    }
   ],
   "source": [
    "transformer = FeatureUnion(\n",
    "    transformer_list=[\n",
    "         ('features', SimpleImputer(strategy='mean')),\n",
    "         ('indicators', MissingIndicator())])\n",
    "transformer = transformer.fit(X_train, Y_train)\n",
    "results = transformer.transform(X_test)\n",
    "results.shape"
   ]
  },
  {
   "cell_type": "code",
   "execution_count": 47,
   "id": "0e225252",
   "metadata": {},
   "outputs": [
    {
     "data": {
      "text/plain": [
       "(9698,)"
      ]
     },
     "execution_count": 47,
     "metadata": {},
     "output_type": "execute_result"
    }
   ],
   "source": [
    "clf = make_pipeline(transformer, DecisionTreeClassifier())\n",
    "clf = clf.fit(X_train, Y_train)\n",
    "results = clf.predict(X_test)\n",
    "results.shape"
   ]
  },
  {
   "cell_type": "code",
   "execution_count": 48,
   "id": "6b2dd2ce",
   "metadata": {},
   "outputs": [],
   "source": [
    "dec_tree_score = f1_score(Y_test, results, average=None)"
   ]
  },
  {
   "cell_type": "code",
   "execution_count": 49,
   "id": "741729ef",
   "metadata": {},
   "outputs": [
    {
     "data": {
      "text/plain": [
       "array([0.        , 0.41666667, 0.        , 0.4516129 , 0.28571429,\n",
       "       0.35294118, 0.40212342, 0.45686901, 0.30985915, 0.24137931,\n",
       "       0.31704669, 0.51676301, 0.66501941, 0.15384615, 0.        ,\n",
       "       0.42424242, 0.        , 0.14285714, 0.5210084 , 0.        ,\n",
       "       0.22939068, 0.42392344, 0.        , 0.2860425 , 0.16666667,\n",
       "       0.28571429, 1.        , 0.36363636, 0.31936416, 0.66101695,\n",
       "       0.36018957, 0.        , 0.11428571, 0.2254902 , 0.        ,\n",
       "       0.25      , 0.28571429, 0.        , 0.        , 0.66666667,\n",
       "       0.        , 0.        , 0.12658228, 0.37209302, 0.52401747,\n",
       "       0.12851406, 0.15584416, 0.125     , 0.35714286, 0.13907285,\n",
       "       0.04878049, 0.375     , 0.        , 0.36158192, 0.        ,\n",
       "       0.        , 0.        , 0.17241379, 0.        , 0.21428571,\n",
       "       0.25      , 0.        , 1.        , 0.        , 0.        ,\n",
       "       0.        , 0.29697766, 0.22222222])"
      ]
     },
     "execution_count": 49,
     "metadata": {},
     "output_type": "execute_result"
    }
   ],
   "source": [
    "dec_tree_score"
   ]
  },
  {
   "cell_type": "code",
   "execution_count": 56,
   "id": "af46f889",
   "metadata": {},
   "outputs": [
    {
     "name": "stdout",
     "output_type": "stream",
     "text": [
      "Test R-squared:  -0.32\n",
      "Test Explained Variation:  -0.32\n"
     ]
    },
    {
     "data": {
      "text/html": [
       "<div>\n",
       "<style scoped>\n",
       "    .dataframe tbody tr th:only-of-type {\n",
       "        vertical-align: middle;\n",
       "    }\n",
       "\n",
       "    .dataframe tbody tr th {\n",
       "        vertical-align: top;\n",
       "    }\n",
       "\n",
       "    .dataframe thead th {\n",
       "        text-align: right;\n",
       "    }\n",
       "</style>\n",
       "<table border=\"1\" class=\"dataframe\">\n",
       "  <thead>\n",
       "    <tr style=\"text-align: right;\">\n",
       "      <th></th>\n",
       "      <th>Actual</th>\n",
       "      <th>Predict</th>\n",
       "    </tr>\n",
       "  </thead>\n",
       "  <tbody>\n",
       "    <tr>\n",
       "      <th>26100</th>\n",
       "      <td>20</td>\n",
       "      <td>22</td>\n",
       "    </tr>\n",
       "    <tr>\n",
       "      <th>3085</th>\n",
       "      <td>98</td>\n",
       "      <td>46</td>\n",
       "    </tr>\n",
       "    <tr>\n",
       "      <th>33358</th>\n",
       "      <td>70</td>\n",
       "      <td>40</td>\n",
       "    </tr>\n",
       "    <tr>\n",
       "      <th>17599</th>\n",
       "      <td>98</td>\n",
       "      <td>98</td>\n",
       "    </tr>\n",
       "    <tr>\n",
       "      <th>30937</th>\n",
       "      <td>38</td>\n",
       "      <td>38</td>\n",
       "    </tr>\n",
       "    <tr>\n",
       "      <th>...</th>\n",
       "      <td>...</td>\n",
       "      <td>...</td>\n",
       "    </tr>\n",
       "    <tr>\n",
       "      <th>47557</th>\n",
       "      <td>14</td>\n",
       "      <td>46</td>\n",
       "    </tr>\n",
       "    <tr>\n",
       "      <th>46605</th>\n",
       "      <td>37</td>\n",
       "      <td>40</td>\n",
       "    </tr>\n",
       "    <tr>\n",
       "      <th>26725</th>\n",
       "      <td>20</td>\n",
       "      <td>48</td>\n",
       "    </tr>\n",
       "    <tr>\n",
       "      <th>17324</th>\n",
       "      <td>18</td>\n",
       "      <td>38</td>\n",
       "    </tr>\n",
       "    <tr>\n",
       "      <th>38777</th>\n",
       "      <td>38</td>\n",
       "      <td>38</td>\n",
       "    </tr>\n",
       "  </tbody>\n",
       "</table>\n",
       "<p>9698 rows × 2 columns</p>\n",
       "</div>"
      ],
      "text/plain": [
       "       Actual  Predict\n",
       "26100      20       22\n",
       "3085       98       46\n",
       "33358      70       40\n",
       "17599      98       98\n",
       "30937      38       38\n",
       "...       ...      ...\n",
       "47557      14       46\n",
       "46605      37       40\n",
       "26725      20       48\n",
       "17324      18       38\n",
       "38777      38       38\n",
       "\n",
       "[9698 rows x 2 columns]"
      ]
     },
     "execution_count": 56,
     "metadata": {},
     "output_type": "execute_result"
    }
   ],
   "source": [
    "dframe = pd.DataFrame({'Actual':Y_test,'Predict':results})\n",
    "print(\"Test R-squared: \",round(metrics.r2_score(Y_test,results),2))\n",
    "print(\"Test Explained Variation: \",round(metrics.explained_variance_score(Y_test,results),2))\n",
    "dframe"
   ]
  },
  {
   "cell_type": "code",
   "execution_count": 61,
   "id": "e834ae6a",
   "metadata": {
    "scrolled": true
   },
   "outputs": [],
   "source": [
    "dec_tree = DecisionTreeClassifier()\n",
    "dec_tree = dec_tree.fit(X_train, Y_train)"
   ]
  },
  {
   "cell_type": "code",
   "execution_count": 62,
   "id": "473a6fde",
   "metadata": {},
   "outputs": [],
   "source": [
    "dec_tree_pred = dec_tree.predict(X_test)\n",
    "\n",
    "dec_tree_score = f1_score(Y_test, dec_tree_pred, average=None)"
   ]
  },
  {
   "cell_type": "code",
   "execution_count": 64,
   "id": "f6a6d09d",
   "metadata": {},
   "outputs": [
    {
     "data": {
      "text/plain": [
       "array([22, 48, 40, ..., 48, 38, 38])"
      ]
     },
     "execution_count": 64,
     "metadata": {},
     "output_type": "execute_result"
    }
   ],
   "source": [
    "dec_tree_pred\n",
    "\n"
   ]
  },
  {
   "cell_type": "code",
   "execution_count": 65,
   "id": "f5999342",
   "metadata": {},
   "outputs": [
    {
     "data": {
      "text/plain": [
       "array([0.        , 0.38095238, 0.        , 0.44067797, 0.28571429,\n",
       "       0.42857143, 0.39733333, 0.46349206, 0.30042918, 0.21052632,\n",
       "       0.31590181, 0.51378299, 0.66363318, 0.2       , 0.        ,\n",
       "       0.4516129 , 0.        , 0.15384615, 0.52601156, 0.        ,\n",
       "       0.24043716, 0.42699856, 0.        , 0.29530979, 0.16666667,\n",
       "       0.26086957, 1.        , 0.30769231, 0.32524964, 0.66666667,\n",
       "       0.31279621, 0.        , 0.1025641 , 0.22680412, 0.        ,\n",
       "       0.27160494, 0.18181818, 0.        , 0.        , 0.66666667,\n",
       "       0.        , 0.0952381 , 0.1       , 0.41935484, 0.53389831,\n",
       "       0.13078471, 0.16363636, 0.125     , 0.43478261, 0.13793103,\n",
       "       0.04761905, 0.375     , 0.        , 0.39583333, 0.        ,\n",
       "       0.        , 0.        , 0.14035088, 0.        , 0.21238938,\n",
       "       0.28571429, 0.        , 1.        , 0.        , 0.        ,\n",
       "       0.        , 0.        , 0.28954424, 0.19354839])"
      ]
     },
     "execution_count": 65,
     "metadata": {},
     "output_type": "execute_result"
    }
   ],
   "source": [
    "dec_tree_score"
   ]
  },
  {
   "cell_type": "code",
   "execution_count": 67,
   "id": "d64b6e00",
   "metadata": {},
   "outputs": [
    {
     "name": "stdout",
     "output_type": "stream",
     "text": [
      "Accuracy score 0.38461538461538464\n"
     ]
    },
    {
     "data": {
      "text/html": [
       "<div>\n",
       "<style scoped>\n",
       "    .dataframe tbody tr th:only-of-type {\n",
       "        vertical-align: middle;\n",
       "    }\n",
       "\n",
       "    .dataframe tbody tr th {\n",
       "        vertical-align: top;\n",
       "    }\n",
       "\n",
       "    .dataframe thead th {\n",
       "        text-align: right;\n",
       "    }\n",
       "</style>\n",
       "<table border=\"1\" class=\"dataframe\">\n",
       "  <thead>\n",
       "    <tr style=\"text-align: right;\">\n",
       "      <th></th>\n",
       "      <th>Actual</th>\n",
       "      <th>Predict</th>\n",
       "    </tr>\n",
       "  </thead>\n",
       "  <tbody>\n",
       "    <tr>\n",
       "      <th>26100</th>\n",
       "      <td>20</td>\n",
       "      <td>22</td>\n",
       "    </tr>\n",
       "    <tr>\n",
       "      <th>3085</th>\n",
       "      <td>98</td>\n",
       "      <td>48</td>\n",
       "    </tr>\n",
       "    <tr>\n",
       "      <th>33358</th>\n",
       "      <td>70</td>\n",
       "      <td>40</td>\n",
       "    </tr>\n",
       "    <tr>\n",
       "      <th>17599</th>\n",
       "      <td>98</td>\n",
       "      <td>98</td>\n",
       "    </tr>\n",
       "    <tr>\n",
       "      <th>30937</th>\n",
       "      <td>38</td>\n",
       "      <td>38</td>\n",
       "    </tr>\n",
       "    <tr>\n",
       "      <th>...</th>\n",
       "      <td>...</td>\n",
       "      <td>...</td>\n",
       "    </tr>\n",
       "    <tr>\n",
       "      <th>47557</th>\n",
       "      <td>14</td>\n",
       "      <td>46</td>\n",
       "    </tr>\n",
       "    <tr>\n",
       "      <th>46605</th>\n",
       "      <td>37</td>\n",
       "      <td>40</td>\n",
       "    </tr>\n",
       "    <tr>\n",
       "      <th>26725</th>\n",
       "      <td>20</td>\n",
       "      <td>48</td>\n",
       "    </tr>\n",
       "    <tr>\n",
       "      <th>17324</th>\n",
       "      <td>18</td>\n",
       "      <td>38</td>\n",
       "    </tr>\n",
       "    <tr>\n",
       "      <th>38777</th>\n",
       "      <td>38</td>\n",
       "      <td>38</td>\n",
       "    </tr>\n",
       "  </tbody>\n",
       "</table>\n",
       "<p>9698 rows × 2 columns</p>\n",
       "</div>"
      ],
      "text/plain": [
       "       Actual  Predict\n",
       "26100      20       22\n",
       "3085       98       48\n",
       "33358      70       40\n",
       "17599      98       98\n",
       "30937      38       38\n",
       "...       ...      ...\n",
       "47557      14       46\n",
       "46605      37       40\n",
       "26725      20       48\n",
       "17324      18       38\n",
       "38777      38       38\n",
       "\n",
       "[9698 rows x 2 columns]"
      ]
     },
     "execution_count": 67,
     "metadata": {},
     "output_type": "execute_result"
    }
   ],
   "source": [
    "dframe = pd.DataFrame({'Actual':Y_test,'Predict':dec_tree_pred})\n",
    "print('Accuracy score', metrics.accuracy_score(Y_test, dec_tree_pred))\n",
    "dframe"
   ]
  },
  {
   "cell_type": "code",
   "execution_count": 69,
   "id": "523b5a65",
   "metadata": {},
   "outputs": [
    {
     "data": {
      "text/plain": [
       "0.9914664329173971"
      ]
     },
     "execution_count": 69,
     "metadata": {},
     "output_type": "execute_result"
    }
   ],
   "source": [
    "dec_tree.score(X_train, Y_train)"
   ]
  },
  {
   "cell_type": "code",
   "execution_count": null,
   "id": "7e9ac726",
   "metadata": {},
   "outputs": [],
   "source": []
  }
 ],
 "metadata": {
  "kernelspec": {
   "display_name": "Python 3 (ipykernel)",
   "language": "python",
   "name": "python3"
  },
  "language_info": {
   "codemirror_mode": {
    "name": "ipython",
    "version": 3
   },
   "file_extension": ".py",
   "mimetype": "text/x-python",
   "name": "python",
   "nbconvert_exporter": "python",
   "pygments_lexer": "ipython3",
   "version": "3.9.15"
  }
 },
 "nbformat": 4,
 "nbformat_minor": 5
}
